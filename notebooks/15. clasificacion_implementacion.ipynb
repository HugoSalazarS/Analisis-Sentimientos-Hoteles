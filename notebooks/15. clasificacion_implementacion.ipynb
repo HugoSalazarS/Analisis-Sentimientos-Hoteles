{
 "cells": [
  {
   "cell_type": "markdown",
   "metadata": {},
   "source": [
    "# **Trabajamos con GPT-3.5**"
   ]
  },
  {
   "cell_type": "code",
   "execution_count": 14,
   "metadata": {},
   "outputs": [],
   "source": [
    "import pandas as pd\n",
    "import warnings\n",
    "import json\n",
    "import demoji\n",
    "import re\n",
    "import numpy as np\n",
    "warnings.filterwarnings(\"ignore\")"
   ]
  },
  {
   "cell_type": "code",
   "execution_count": 15,
   "metadata": {},
   "outputs": [],
   "source": [
    "# Importar libreria openai para trabajar con su API\n",
    "import openai\n",
    "openai.api_key = \"AUTH_KEY\"\n",
    "\n",
    "def get_completion(prompt, model=\"gpt-3.5-turbo\"):\n",
    "    messages = [{\"role\": \"user\", \"content\": prompt}]\n",
    "    response = openai.ChatCompletion.create(\n",
    "        model=model,\n",
    "        messages=messages,\n",
    "        temperature=0, # this is the degree of randomness of the model's output\n",
    "    )\n",
    "    return response.choices[0].message[\"content\"]"
   ]
  },
  {
   "cell_type": "code",
   "execution_count": 16,
   "metadata": {},
   "outputs": [],
   "source": [
    "df = pd.read_csv('reviews.csv', sep=';')\n",
    "#df = df.head(5)\n",
    "# Crear la columna 'sentiment'\n",
    "df['sentiment'] = None"
   ]
  },
  {
   "cell_type": "code",
   "execution_count": 17,
   "metadata": {},
   "outputs": [],
   "source": [
    "\n",
    "\n",
    "def cleaning_text(text):\n",
    "# TRATAR TRADUCCIONES EN REVIEWS, BORRA EL STRING \"(ORIGINAL)\" Y TODO A SU DERECHA\n",
    "  keyword = \"(Original)\"\n",
    "  keyword_index = text.find(keyword) # Encontrar la posición de la palabra clave\n",
    "  if keyword_index != -1:\n",
    "      text = text[:keyword_index + len(keyword)] # Eliminar todo después de la palabra clave\n",
    "\n",
    "  text = text.replace(\"(Original)\", \"\")\n",
    "  text = text.replace(\"(Translated by Google)\", \"\")\n",
    "\n",
    "# TRATAR EMOJIS\n",
    "  text = demoji.replace_with_desc(text, ' ') # reemplaza los emojis con palabras mas un espacio entre si\n",
    "\n",
    "# BORRAR SALTOS DE LINEA\n",
    "  text = text.replace(\"\\n\", \" \")\n",
    "# BORRAR CARACTERES NO ALFANUMERICOS\n",
    "  text = re.sub(r'[^\\w\\s]', '', text)\n",
    "# BORRAR ESPACIOS AL PRINCIPIO Y AL FINAL Y CONVERTIR A MINUSCULAS\n",
    "  text = text.strip()\n",
    "  text = text.lower()\n",
    "# DESPUES DE LIMPIADO VERIFICAR SI HAY CARACTERES O NO, SI NO HAY CONVERTIRLOS EN NULO\n",
    "  if not text:\n",
    "      return None\n",
    "  return text"
   ]
  },
  {
   "cell_type": "code",
   "execution_count": 18,
   "metadata": {},
   "outputs": [],
   "source": [
    "# Crear columna 'cleaned' a partir de la limpieza de la columna 'review'\n",
    "df[\"cleaned\"] = [cleaning_text(x) for x in df[\"review\"]]"
   ]
  },
  {
   "cell_type": "code",
   "execution_count": 24,
   "metadata": {},
   "outputs": [],
   "source": [
    "# Obtener el análisis de sentimiento de los reviews y de sus categorías\n",
    "df['sentiment'] = [\n",
    "    get_completion(\n",
    "        f\"\"\" 1. Give me the overall sentiment of the next review, the response can be 1 for positive, -1 for negative or 0 for neutral.\n",
    "            2. Give me the sentiment of the next categories of the review: room, guest service, cleaning and breakfast.\n",
    "            The response must be 1 for positive, -1 for negative or 0 neutral.\n",
    "            3. The output must be in JSON format and the keys must be 'overall_sentiment', 'room_sentiment', 'guest_service_sentiment','cleaning_sentiment' and 'breakfast_sentiment'.\n",
    "            \\ ```{review}```\n",
    "        \"\"\"\n",
    "    )\n",
    "    for review in df['cleaned']\n",
    "]"
   ]
  },
  {
   "cell_type": "code",
   "execution_count": null,
   "metadata": {},
   "outputs": [],
   "source": [
    "\n",
    "#Convertir cada cadena en la columna 'json_strings' en un objeto JSON\n",
    "def convert_to_json(row):\n",
    "    return json.loads(row)\n",
    "\n",
    "df['sentiment'] = [convert_to_json(x) for x in df[\"sentiment\"]]"
   ]
  },
  {
   "cell_type": "code",
   "execution_count": null,
   "metadata": {},
   "outputs": [],
   "source": [
    "# Crear el 'df_openai' a partir de 'df'\n",
    "df_openai = df[['review_id','lodging_id','guest_id','date','review','rating','sentiment']]"
   ]
  },
  {
   "cell_type": "code",
   "execution_count": null,
   "metadata": {},
   "outputs": [],
   "source": [
    "# Crear el archivo 'review_openai.csv'\n",
    "df_openai.to_csv('df_openai.csv',sep=';')"
   ]
  },
  {
   "cell_type": "code",
   "execution_count": 144,
   "metadata": {},
   "outputs": [],
   "source": [
    "# Crear un dataframe flat llamado 'result_df' desanidando la columna 'sentiment'\n",
    "# Expandir el diccionario en columnas individuales\n",
    "expanded_df = pd.DataFrame(df['sentiment'].tolist())\n",
    "\n",
    "# Combinar los DataFrames originales y expandidos\n",
    "result_df = pd.concat([df, expanded_df], axis=1)\n",
    "\n",
    "# Eliminar la columna 'sentiments' si ya no la necesitas\n",
    "result_df.drop('sentiment', axis=1, inplace=True)"
   ]
  },
  {
   "cell_type": "code",
   "execution_count": 145,
   "metadata": {},
   "outputs": [],
   "source": [
    "# Crear archivo 'review_openai_flat' a partir de 'result_df'\n",
    "df_openai_flat = result_df.copy()\n",
    "df_openai_flat.to_csv('df_openai_flat.csv',sep=';')"
   ]
  }
 ],
 "metadata": {
  "kernelspec": {
   "display_name": "base",
   "language": "python",
   "name": "python3"
  },
  "language_info": {
   "codemirror_mode": {
    "name": "ipython",
    "version": 3
   },
   "file_extension": ".py",
   "mimetype": "text/x-python",
   "name": "python",
   "nbconvert_exporter": "python",
   "pygments_lexer": "ipython3",
   "version": "3.10.9"
  },
  "orig_nbformat": 4
 },
 "nbformat": 4,
 "nbformat_minor": 2
}
